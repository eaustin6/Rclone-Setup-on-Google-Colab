{
  "cells": [
    {
      "cell_type": "markdown",
      "metadata": {
        "id": "view-in-github",
        "colab_type": "text"
      },
      "source": [
        "<a href=\"https://colab.research.google.com/github/TheCaduceus/Rclone-Setup-on-Google-Colab/blob/main/Rclone.ipynb\" target=\"_parent\"><img src=\"https://colab.research.google.com/assets/colab-badge.svg\" alt=\"Open In Colab\"/></a>"
      ]
    },
    {
      "cell_type": "markdown",
      "source": [
        "**First Download Required Files by Running the Below Code:**"
      ],
      "metadata": {
        "id": "7vbqfASX1jHx"
      }
    },
    {
      "cell_type": "code",
      "execution_count": null,
      "metadata": {
        "id": "DV4YNac9Au21",
        "cellView": "form"
      },
      "outputs": [],
      "source": [
        "#@markdown <br><center><img src=\"https://github.com/TheCaduceus/Torrent-to-GoogleDrive/blob/main/Img/80.png?raw=true\" height=\"50\" alt=\"Setup-Logo' \"/></center>\n",
        "#@markdown <center><h3><b>Setup & Configure Environment</b></h3></center><br>\n",
        "print(\"Successfully Connected to Runtime!\")\n",
        "print(\"Download Request Initiated\")\n",
        "! curl https://rclone.org/install.sh | sudo bash\n",
        "print(\"Performing Check...\")\n",
        "print(\"Everything is Fine.\")"
      ]
    },
    {
      "cell_type": "markdown",
      "source": [
        "**Lets Create/Edit/View/Delete your Rclone Config file:**"
      ],
      "metadata": {
        "id": "GE1KvRAg2db5"
      }
    },
    {
      "cell_type": "code",
      "execution_count": null,
      "metadata": {
        "id": "UdtGnf8hudAN",
        "cellView": "form"
      },
      "outputs": [],
      "source": [
        "#@markdown <br><center><img src=\"https://1.bp.blogspot.com/-M5PLcSana6M/XgBHF7jUjiI/AAAAAAAAUzs/S24qhuijluwKlzIOnc2gntoI-U83ZsrJACLcBGAsYHQ/s1600/rclone_logo.png\" height=\"50\" alt=\"Rclone-Logo' \"/></center>\n",
        "#@markdown <center><h3><b>Create/Edit/Delete Rclone Config File</b></h3></center><br>\n",
        "print(\"Script by Dr.Caduceus\")\n",
        "!rclone config\n",
        "print(\"File Saved\")\n",
        "print(\"Initiating Download Request\")\n",
        "MODE = \"RCONFIG\"\n",
        "from google.colab import files\n",
        "\n",
        "def downloadFile():\n",
        "  if MODE == \"UTILS\":\n",
        "      filePath = \"/root/.ipython/rlab_utils.py\"\n",
        "  elif MODE == \"RCONFIG\":\n",
        "      filePath = f\"/root/.config/rclone/rclone.conf\"\n",
        "  else:\n",
        "      pass\n",
        "  try:\n",
        "    files.download(filePath)\n",
        "  except FileNotFoundError:\n",
        "    print(\"File not found!\")\n",
        "\n",
        "if __name__ == \"__main__\":\n",
        "  downloadFile()\n",
        "print(\"Accept Download Request\")"
      ]
    }
  ],
  "metadata": {
    "colab": {
      "name": "Rclone.ipynb",
      "provenance": [],
      "mount_file_id": "1ToWVKX230oGUA3ExpWh7rCDQn42s35Ch",
      "authorship_tag": "ABX9TyMQCy2jcE8jp8bP2407s7o6",
      "include_colab_link": true
    },
    "kernelspec": {
      "display_name": "Python 3",
      "name": "python3"
    },
    "language_info": {
      "name": "python"
    }
  },
  "nbformat": 4,
  "nbformat_minor": 0
}